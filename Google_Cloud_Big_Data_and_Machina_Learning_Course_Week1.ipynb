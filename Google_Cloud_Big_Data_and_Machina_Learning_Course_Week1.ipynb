{
  "nbformat": 4,
  "nbformat_minor": 0,
  "metadata": {
    "colab": {
      "name": "Google Cloud Big Data and Machina Learning Course - Week1.ipynb",
      "provenance": [],
      "collapsed_sections": [],
      "authorship_tag": "ABX9TyNd9Uk70OXXH57gfSQLDJfX",
      "include_colab_link": true
    },
    "kernelspec": {
      "name": "python3",
      "display_name": "Python 3"
    },
    "language_info": {
      "name": "python"
    }
  },
  "cells": [
    {
      "cell_type": "markdown",
      "metadata": {
        "id": "view-in-github",
        "colab_type": "text"
      },
      "source": [
        "<a href=\"https://colab.research.google.com/github/ardayekh/ProfessionalDataEngineer/blob/main/Google_Cloud_Big_Data_and_Machina_Learning_Course_Week1.ipynb\" target=\"_parent\"><img src=\"https://colab.research.google.com/assets/colab-badge.svg\" alt=\"Open In Colab\"/></a>"
      ]
    },
    {
      "cell_type": "markdown",
      "metadata": {
        "id": "-ZKon4zI_WDR"
      },
      "source": [
        "#This notebook contains notes for Google Cloud Big Data and Machina Learning Course"
      ]
    },
    {
      "cell_type": "markdown",
      "metadata": {
        "id": "fJ7pvkPr_uee"
      },
      "source": [
        "TPU: Tensor Processing Units are specialized ML Hardware\n"
      ]
    },
    {
      "cell_type": "markdown",
      "metadata": {
        "id": "ZcKtw6KUDdth"
      },
      "source": [
        "Steps to spin a Compute Engine instance, run some software on it, copy files from that Compute Engine instance to Cloud Storage and pucblish those files to make them public.\n",
        "\n",
        "Step 1: Create a VM Compute Engine instance\n",
        "Step 2: Start VM and SSH into it (to connect to it)\n",
        "Step 3: Install required tools in VM\n",
        "Step 4: Load required files (data and code script such as python script)\n",
        "Step 5: Run code script (code script will output required files that need to be transformed into Cloud Storage (e.g. Googel Storage)\n",
        "Step 6: Create a storage bucket\n",
        "Step 7: Copy required files into bucket by running following command\n",
        "\n",
        "gsutil cp [file name] gs://[bucket name]\n",
        "\n",
        "Step 8: Give desired access permissions to loaded files"
      ]
    },
    {
      "cell_type": "markdown",
      "metadata": {
        "id": "y3gtHyEqMX3L"
      },
      "source": [
        ""
      ]
    },
    {
      "cell_type": "markdown",
      "metadata": {
        "id": "94PzLjCh_WIP"
      },
      "source": [
        ""
      ]
    }
  ]
}